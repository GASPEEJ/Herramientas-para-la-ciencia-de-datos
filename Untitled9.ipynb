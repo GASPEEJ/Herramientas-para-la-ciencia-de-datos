{
  "nbformat": 4,
  "nbformat_minor": 0,
  "metadata": {
    "colab": {
      "provenance": []
    },
    "kernelspec": {
      "name": "python3",
      "display_name": "Python 3"
    },
    "language_info": {
      "name": "python"
    }
  },
  "cells": [
    {
      "cell_type": "markdown",
      "source": [
        "#Libro Modulo 6\n"
      ],
      "metadata": {
        "id": "HNrkAKmA2ok6"
      }
    },
    {
      "cell_type": "markdown",
      "source": [
        "# Introducción\n",
        "Este cuaderno contiene datos relacionados con la ciencia de datos."
      ],
      "metadata": {
        "id": "iWnKTi-Pzsxx"
      }
    },
    {
      "cell_type": "markdown",
      "source": [
        "# Lenguajes de Ciencia de Datos\n",
        "1. Python\n",
        "2. R\n",
        "3. Julia\n"
      ],
      "metadata": {
        "id": "zH4ybstYzy9g"
      }
    },
    {
      "cell_type": "markdown",
      "source": [
        "# Bibliotecas de Ciencia de Datos\n",
        "- NumPy\n",
        "- pandas\n",
        "- TensorFlow"
      ],
      "metadata": {
        "id": "6vdC9Tp6z8CC"
      }
    },
    {
      "cell_type": "markdown",
      "source": [
        "# Herramientas de Ciencia de Datos\n",
        "| Herramienta        | Uso                         |\n",
        "|--------------------|-----------------------------|\n",
        "| Jupyter Notebook    | Desarrollo interactivo       |\n",
        "| | Apache Hadoop       | Procesamiento de Big Data   |\n",
        "| Tableau             | Visualización de datos      |\n"
      ],
      "metadata": {
        "id": "ss6XeYei0AiR"
      }
    },
    {
      "cell_type": "markdown",
      "source": [
        "# Ejemplos de Expresiones Aritméticas\n",
        "- Suma: `5 + 5 = 10`\n"
      ],
      "metadata": {
        "id": "KtP1mTbv0Hwp"
      }
    },
    {
      "cell_type": "code",
      "source": [
        "# Multiplicar y sumar números\n",
        "multiplicacion = 8 * 4\n",
        "suma = 5 + 4\n",
        "multiplicacion, suma"
      ],
      "metadata": {
        "colab": {
          "base_uri": "https://localhost:8080/"
        },
        "id": "ZG76lWG40OCB",
        "outputId": "87f49861-5a6b-4cbe-c510-6b0a004b1447"
      },
      "execution_count": 5,
      "outputs": [
        {
          "output_type": "execute_result",
          "data": {
            "text/plain": [
              "(32, 9)"
            ]
          },
          "metadata": {},
          "execution_count": 5
        }
      ]
    },
    {
      "cell_type": "code",
      "source": [
        "# Convertir minutos en horas\n",
        "minutos = 120\n",
        "horas = minutos / 60\n",
        "horas"
      ],
      "metadata": {
        "colab": {
          "base_uri": "https://localhost:8080/"
        },
        "id": "_bt4W3_b0acC",
        "outputId": "e2565517-719e-4df0-ca57-7360ccb133f9"
      },
      "execution_count": 6,
      "outputs": [
        {
          "output_type": "execute_result",
          "data": {
            "text/plain": [
              "2.0"
            ]
          },
          "metadata": {},
          "execution_count": 6
        }
      ]
    },
    {
      "cell_type": "code",
      "source": [
        "# Listar objetivos\n",
        "objetivos = [\"Listas de Obejtos\",\n",
        "             \"Aprender bibliotecas\",\n",
        "             \"Python\"]\n",
        "objetivos"
      ],
      "metadata": {
        "colab": {
          "base_uri": "https://localhost:8080/"
        },
        "id": "SZZZE4ag0c7p",
        "outputId": "79c339d8-1a91-473c-81aa-c3b41786e977"
      },
      "execution_count": 8,
      "outputs": [
        {
          "output_type": "execute_result",
          "data": {
            "text/plain": [
              "['Listas de Obejtos', 'Aprender bibliotecas', 'Python']"
            ]
          },
          "metadata": {},
          "execution_count": 8
        }
      ]
    },
    {
      "cell_type": "markdown",
      "source": [
        "# Autor\n",
        "Gabriel"
      ],
      "metadata": {
        "id": "qUD_MJBl0l1m"
      }
    }
  ]
}